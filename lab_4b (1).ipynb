{
  "cells": [
    {
      "cell_type": "markdown",
      "metadata": {
        "id": "_eI88ZoBsYAI"
      },
      "source": [
        "# LAB Session 4b (20/12/2020)\n",
        "\n",
        "You will generate the Higgs mass spectrum, with signal and background, and perform fits to binned data. Then you can repeat the generation to emulate multiple experiments and perform some statistical analysis.\n",
        "\n",
        "This notebook provides guidance to obtain a correct spectrum and fit it. At the end you will find a few questions to answer (by repeating some of the steps and making some plots).\n",
        "\n",
        "The main steps are:\n",
        "- Generate Gaussian signal\n",
        " - plot the distribution\n",
        "- Generate exponential background\n",
        " - plot the distribution \n",
        "- Plot the distribution of data by stacking signal and background\n",
        "- Obtain binned data from histogram\n",
        "- Fit binned data with `curve_fit`\n",
        "- Compute the signal significance defined as $S/\\sqrt B$\n",
        "\n",
        "At this point you can repeat the steps above to perform a few studies and make some plots, as asked for at the end of the notebook."
      ]
    },
    {
      "cell_type": "markdown",
      "metadata": {
        "id": "fIfwc7RhsYAL"
      },
      "source": [
        "# Modules for this exercise\n",
        "\n",
        "- `scipy.optimize` for fitting\n",
        "- `scipy.integrate` for integration"
      ]
    },
    {
      "cell_type": "code",
      "execution_count": 2,
      "metadata": {
        "id": "V8l1ip-UsYAM"
      },
      "outputs": [],
      "source": [
        "import numpy as np\n",
        "import matplotlib.pyplot as plt\n",
        "import scipy.stats as stats\n",
        "from scipy import optimize as opt  \n",
        "from scipy import integrate"
      ]
    },
    {
      "cell_type": "markdown",
      "metadata": {
        "id": "TAi_WOvfsYAN"
      },
      "source": [
        "# Parameters\n",
        "- Number of signal events\n",
        "- Number of background events\n",
        "- Higgs mass\n",
        "- Higgs width due to detector resolution (intrinsic width is negligible)"
      ]
    },
    {
      "cell_type": "code",
      "execution_count": 3,
      "metadata": {
        "id": "jQp3-wuGsYAO"
      },
      "outputs": [],
      "source": [
        "n_sig_0 = 100\n",
        "n_bkg_0 = 10000\n",
        "\n",
        "m_sig = 125 # GeV\n",
        "w_sig = 0.02 # in %\n",
        "w_sig *= m_sig"
      ]
    },
    {
      "cell_type": "markdown",
      "metadata": {
        "id": "ALhNytdzsYAP"
      },
      "source": [
        "# Histogram data\n",
        "Boundaries and number of bins"
      ]
    },
    {
      "cell_type": "code",
      "execution_count": 28,
      "metadata": {
        "scrolled": true,
        "id": "JWC9ufl6sYAP",
        "colab": {
          "base_uri": "https://localhost:8080/"
        },
        "outputId": "87a382de-c97d-43e9-cf0c-ebba5a2e08e7"
      },
      "outputs": [
        {
          "output_type": "stream",
          "name": "stdout",
          "text": [
            "100 bins from 0.0 to 200.0 GeV\n",
            "Bin width: 2.00 GeV\n"
          ]
        }
      ],
      "source": [
        "x_min = 0    # GeV\n",
        "x_max = 200  # GeV\n",
        "n_bins = 100\n",
        "bin_width = (x_max-x_min)/n_bins # GeV\n",
        "print('%d bins from %.1f to %.1f GeV' % (n_bins, x_min, x_max))\n",
        "print('Bin width: %.2f GeV' % (bin_width))"
      ]
    },
    {
      "cell_type": "markdown",
      "metadata": {
        "id": "GN3wq7SKsYAQ"
      },
      "source": [
        "## Generate signal sample\n",
        "\n",
        "`n_sig_0` events with a Gaussian distribution around Higgs mass"
      ]
    },
    {
      "cell_type": "code",
      "execution_count": 4,
      "metadata": {
        "id": "Wd5w8Yr6sYAQ"
      },
      "outputs": [],
      "source": [
        "s=np.random.normal(m_sig,w_sig,n_sig_0)"
      ]
    },
    {
      "cell_type": "markdown",
      "metadata": {
        "id": "MXMZKdxksYAR"
      },
      "source": [
        "## Plots signal distribution\n",
        "\n",
        "Use [matplotlib.pyplot.hist](https://matplotlib.org/3.3.3/api/_as_gen/matplotlib.pyplot.hist.html)"
      ]
    },
    {
      "cell_type": "code",
      "execution_count": 15,
      "metadata": {
        "id": "1jtXyw9RsYAR",
        "colab": {
          "base_uri": "https://localhost:8080/",
          "height": 265
        },
        "outputId": "f8706457-2fdb-4501-9745-72a740a18eb0"
      },
      "outputs": [
        {
          "output_type": "display_data",
          "data": {
            "image/png": "[encoded data removed]",
            "text/plain": [
              "<Figure size 432x288 with 1 Axes>"
            ]
          },
          "metadata": {
            "needs_background": "light"
          }
        }
      ],
      "source": [
        "#%matplotlib notebook\n",
        "%matplotlib inline \n",
        "\n",
        "n,bins,patches=plt.hist(s,bins=n_bins,label='gaussian data')\n",
        "plt.legend()\n",
        "plt.grid()\n",
        "plt.show()\n"
      ]
    },
    {
      "cell_type": "markdown",
      "metadata": {
        "id": "4w25_TVZsYAR"
      },
      "source": [
        "## Generate background sample\n",
        "\n",
        "`n_bkg_0` events with an exponential distribution. Use [numpy.random.exponential](https://numpy.org/doc/stable/reference/random/generated/numpy.random.exponential.html).\n",
        "\n",
        "Choose an exponential parameter that populates bins with tens of events for mass of 200 GeV. For example, use `scale=80` in [numpy.random.exponential]."
      ]
    },
    {
      "cell_type": "code",
      "execution_count": 17,
      "metadata": {
        "id": "6hkHx1ovsYAS"
      },
      "outputs": [],
      "source": [
        "e=np.random.exponential(80,n_bkg_0)"
      ]
    },
    {
      "cell_type": "markdown",
      "metadata": {
        "id": "waqirjrasYAS"
      },
      "source": [
        "## Plots background distribution\n",
        "Use [matplotlib.pyplot.hist](https://matplotlib.org/3.3.3/api/_as_gen/matplotlib.pyplot.hist.html)\n",
        "\n",
        "Useful options:\n",
        "- _bins=n_ : fix number of bins to _n_\n",
        "- _hist=options_ : for example _hist='step'_ to show empty histogram\n",
        "- _range=(min,max)_ : fix the boundaries of data in histogram. \n",
        "  - **NB**: this is different than using _xlim(min,max)_ which is only for visualization\n"
      ]
    },
    {
      "cell_type": "code",
      "execution_count": 29,
      "metadata": {
        "id": "iaR84sDTsYAS",
        "colab": {
          "base_uri": "https://localhost:8080/",
          "height": 265
        },
        "outputId": "2a21dbdb-e320-42d0-fb46-3fac747ba6de"
      },
      "outputs": [
        {
          "output_type": "display_data",
          "data": {
            "image/png": "[encoded data removed]",
            "text/plain": [
              "<Figure size 432x288 with 1 Axes>"
            ]
          },
          "metadata": {
            "needs_background": "light"
          }
        }
      ],
      "source": [
        "n,bins,patches=plt.hist(e,bins=n_bins,label='background',range=(0,200),facecolor='green')\n",
        "plt.show()"
      ]
    },
    {
      "cell_type": "markdown",
      "metadata": {
        "id": "b6drInA-sYAT"
      },
      "source": [
        "## Stack signal and background data in the same histogram\n",
        "\n",
        "If you have two data arrays `signal` and `background`, the following can stack `signal` on top of the `background`\n",
        "\n",
        "```python\n",
        "plt.hist((background, signal), bins=n_bins, label=('backgroud', 'signal'),\n",
        "         color=('red', 'blue'), stacked=True, \n",
        "         histtype='step', range=(x_min, x_max))\n",
        "```"
      ]
    },
    {
      "cell_type": "code",
      "execution_count": 30,
      "metadata": {
        "id": "QR7t8cl1sYAU",
        "colab": {
          "base_uri": "https://localhost:8080/",
          "height": 858
        },
        "outputId": "d538b816-9b47-4537-b468-4534ef5933ca"
      },
      "outputs": [
        {
          "output_type": "stream",
          "name": "stderr",
          "text": [
            "/usr/local/lib/python3.7/dist-packages/numpy/core/_asarray.py:83: VisibleDeprecationWarning: Creating an ndarray from ragged nested sequences (which is a list-or-tuple of lists-or-tuples-or ndarrays with different lengths or shapes) is deprecated. If you meant to do this, you must specify 'dtype=object' when creating the ndarray\n",
            "  return array(a, dtype, copy=False, order=order)\n"
          ]
        },
        {
          "output_type": "execute_result",
          "data": {
            "text/plain": [
              "(array([[259., 250., 244., 206., 235., 226., 223., 195., 178., 193., 185.,\n",
              "         217., 195., 156., 170., 169., 165., 166., 136., 148., 144., 150.,\n",
              "         131., 127., 125., 125., 156., 142., 135., 133., 124., 109., 102.,\n",
              "          97., 106.,  98., 109.,  91.,  88.,  83., 100.,  84.,  88.,  69.,\n",
              "          84.,  85.,  88.,  79.,  81.,  71.,  73.,  66.,  65.,  70.,  73.,\n",
              "          60.,  54.,  66.,  73.,  48.,  61.,  45.,  58.,  60.,  49.,  53.,\n",
              "          50.,  33.,  62.,  45.,  37.,  49.,  46.,  39.,  47.,  42.,  41.,\n",
              "          36.,  35.,  27.,  28.,  29.,  27.,  32.,  29.,  25.,  30.,  23.,\n",
              "          22.,  38.,  31.,  15.,  24.,  25.,  21.,  14.,  30.,  29.,  18.,\n",
              "          16.],\n",
              "        [259., 250., 244., 206., 235., 226., 223., 195., 178., 193., 185.,\n",
              "         217., 195., 156., 170., 169., 165., 166., 136., 148., 144., 150.,\n",
              "         131., 127., 125., 125., 156., 142., 135., 133., 124., 109., 102.,\n",
              "          97., 106.,  98., 109.,  91.,  88.,  83., 100.,  84.,  88.,  69.,\n",
              "          84.,  85.,  88.,  79.,  81.,  71.,  73.,  66.,  65.,  70.,  73.,\n",
              "          60.,  54.,  66.,  73.,  51.,  69.,  66.,  90.,  84.,  59.,  55.,\n",
              "          50.,  33.,  62.,  45.,  37.,  49.,  46.,  39.,  47.,  42.,  41.,\n",
              "          36.,  35.,  27.,  28.,  29.,  27.,  32.,  29.,  25.,  30.,  23.,\n",
              "          22.,  38.,  31.,  15.,  24.,  25.,  21.,  14.,  30.,  29.,  18.,\n",
              "          16.]]),\n",
              " array([  0.,   2.,   4.,   6.,   8.,  10.,  12.,  14.,  16.,  18.,  20.,\n",
              "         22.,  24.,  26.,  28.,  30.,  32.,  34.,  36.,  38.,  40.,  42.,\n",
              "         44.,  46.,  48.,  50.,  52.,  54.,  56.,  58.,  60.,  62.,  64.,\n",
              "         66.,  68.,  70.,  72.,  74.,  76.,  78.,  80.,  82.,  84.,  86.,\n",
              "         88.,  90.,  92.,  94.,  96.,  98., 100., 102., 104., 106., 108.,\n",
              "        110., 112., 114., 116., 118., 120., 122., 124., 126., 128., 130.,\n",
              "        132., 134., 136., 138., 140., 142., 144., 146., 148., 150., 152.,\n",
              "        154., 156., 158., 160., 162., 164., 166., 168., 170., 172., 174.,\n",
              "        176., 178., 180., 182., 184., 186., 188., 190., 192., 194., 196.,\n",
              "        198., 200.]),\n",
              " <a list of 2 Lists of Patches objects>)"
            ]
          },
          "metadata": {},
          "execution_count": 30
        },
        {
          "output_type": "display_data",
          "data": {
            "image/png": "[encoded data removed]",
            "text/plain": [
              "<Figure size 432x288 with 1 Axes>"
            ]
          },
          "metadata": {
            "needs_background": "light"
          }
        }
      ],
      "source": [
        "plt.hist((e, s), bins=n_bins, label=('backgroud', 'signal'),\n",
        "         color=('red', 'blue'), stacked=True, \n",
        "         histtype='step', range=(0, 200))"
      ]
    },
    {
      "cell_type": "markdown",
      "metadata": {
        "id": "pXttnYl1sYAU"
      },
      "source": [
        "## Merge signal and background samples\n",
        "\n",
        "The data collected in an experiment contains both signal and background. Two samples separately stored in NumPy arrays can be merged with [numpy.concatenate](https://numpy.org/doc/stable/reference/generated/numpy.concatenate.html) as follows:\n",
        "\n",
        "```python\n",
        "data = np.concatenate((a,b))\n",
        "```\n",
        "with the first positional argument of the function being a tuple of numpy arrays."
      ]
    },
    {
      "cell_type": "code",
      "execution_count": 31,
      "metadata": {
        "id": "bKFk2pGAsYAV"
      },
      "outputs": [],
      "source": [
        "data=np.concatenate((e,s))"
      ]
    },
    {
      "cell_type": "markdown",
      "metadata": {
        "id": "8NS2f-nSsYAV"
      },
      "source": [
        "## Binned data\n",
        "\n",
        "The data sample so far is unbinned: we have a number of signal and background events. \n",
        "\n",
        "Now we can create a binned version to be fitted. This is achieved with the `pyplot.hist` function which, as we saw, returns a list of counts for each bin and the bin boundaries\n",
        "```python\n",
        "binned_data, bins, _ = plt.hist(data, bins=n_bins, label='all data', color='black', histtype='step', range=(x_min, x_max))\n",
        "\n",
        "```\n",
        "\n",
        "Plot the merged data and make sure it is indeed the sum of the two sub-samples."
      ]
    },
    {
      "cell_type": "code",
      "execution_count": 32,
      "metadata": {
        "id": "_h0kAfRcsYAV",
        "colab": {
          "base_uri": "https://localhost:8080/",
          "height": 265
        },
        "outputId": "9ff517d1-e9f5-43a8-e4c9-5288015f1785"
      },
      "outputs": [
        {
          "output_type": "display_data",
          "data": {
            "image/png": "[encoded data removed]",
            "text/plain": [
              "<Figure size 432x288 with 1 Axes>"
            ]
          },
          "metadata": {
            "needs_background": "light"
          }
        }
      ],
      "source": [
        "binned_data, bins, _ = plt.hist(data, bins=n_bins, label='all data', color='black', histtype='step', range=(x_min, x_max))"
      ]
    },
    {
      "cell_type": "markdown",
      "metadata": {
        "id": "hnA__u-nsYAV"
      },
      "source": [
        "## `bins` list\n",
        "\n",
        "The list `bins` contains `n_bins + 1` values. These are run from the edge of the first bin to the edge of the last bin. Verify this."
      ]
    },
    {
      "cell_type": "code",
      "execution_count": 34,
      "metadata": {
        "id": "qiUrrbkVsYAW",
        "colab": {
          "base_uri": "https://localhost:8080/"
        },
        "outputId": "f8158b4f-8d96-4f2c-9372-99ce5a875dbe"
      },
      "outputs": [
        {
          "output_type": "stream",
          "name": "stdout",
          "text": [
            "101\n"
          ]
        }
      ],
      "source": [
        "print(len(bins))"
      ]
    },
    {
      "cell_type": "markdown",
      "metadata": {
        "id": "X5KglAp1sYAW"
      },
      "source": [
        "## Center of bins (data along $x$ axis)\n",
        "\n",
        "Using a comprehension, prepare a list `center_bins` from `bins` with length of `n_bins` which contains the center of each bin of the histogram. Check your result."
      ]
    },
    {
      "cell_type": "code",
      "execution_count": 106,
      "metadata": {
        "id": "0sdO4y9psYAW",
        "colab": {
          "base_uri": "https://localhost:8080/"
        },
        "outputId": "5e6e9a78-c535-4c23-e2bb-9d7e0bb6d7fb"
      },
      "outputs": [
        {
          "output_type": "stream",
          "name": "stdout",
          "text": [
            "<class 'list'>\n"
          ]
        }
      ],
      "source": [
        "central_bins=[0.5*(bins[i+1]+bins[i]) for i in range(len(bins)-1)]\n",
        "print(type(central_bins))\n",
        "\n"
      ]
    },
    {
      "cell_type": "markdown",
      "metadata": {
        "id": "qCRvCfeksYAX"
      },
      "source": [
        "## Bin count (data along $y$ axis)\n",
        "\n",
        "Verify that the list `binned data` has length `n_bins`."
      ]
    },
    {
      "cell_type": "code",
      "execution_count": 40,
      "metadata": {
        "id": "hkSax-pksYAX",
        "colab": {
          "base_uri": "https://localhost:8080/"
        },
        "outputId": "9f54a38e-b368-43bd-f7a6-e1dc383f0cf5"
      },
      "outputs": [
        {
          "output_type": "stream",
          "name": "stdout",
          "text": [
            "100\n"
          ]
        }
      ],
      "source": [
        "print(len(central_bins))"
      ]
    },
    {
      "cell_type": "markdown",
      "metadata": {
        "id": "dg-ehZLasYAY"
      },
      "source": [
        "## Fitting the histogram\n",
        "\n",
        "We want to fit the binned data (`binned_data` as a function of `center_bins`) using the [optimize.curve_fit](https://docs.scipy.org/doc/scipy/reference/generated/scipy.optimize.curve_fit.html) function.\n",
        "\n",
        "The fit model has to be the sum of a Gaussian and an exponential.\n",
        "\n",
        "Define three functions with proper arguments\n",
        "1. `sig(x, Norm, mean, width)` for the signal Gaussian\n",
        "2. `bkg(x, Norm, alpha)` for the background exponential\n",
        "3. `total(x, NormSig, mean, width, NormBkg, alpha)` sum of signal and background\n",
        "\n",
        "There is a total of 5 parameters to be fitted from the simulated data."
      ]
    },
    {
      "cell_type": "code",
      "execution_count": 96,
      "metadata": {
        "id": "eRKznU6DsYAY"
      },
      "outputs": [],
      "source": [
        "def sig(x,Normsig,mean,width):\n",
        "    return Normsig*np.exp(-((x-mean)*(x-mean))/(2*width*width))\n",
        "\n",
        "def bkg(x,Normbkg,alpha):\n",
        "    return Normbkg*alpha*np.exp(-alpha*x)\n",
        "\n",
        "def total(x,Normsig,mean,width,Normbkg,alpha):\n",
        "    return sig(x,Normsig,mean,width)+bkg(x,Normbkg,alpha)\n",
        "\n",
        "def seno(x,a):\n",
        "    return np.sin(a*x)"
      ]
    },
    {
      "cell_type": "markdown",
      "metadata": {
        "id": "4CsLp5DesYAY"
      },
      "source": [
        "## Plot fit function\n",
        "\n",
        "As a sanity check, plot the 3 functions and make sure they are implemented correctly."
      ]
    },
    {
      "cell_type": "code",
      "execution_count": 100,
      "metadata": {
        "scrolled": false,
        "id": "4iYOK3pwsYAY",
        "colab": {
          "base_uri": "https://localhost:8080/",
          "height": 282
        },
        "outputId": "eaab5ed0-d85c-4531-f4cc-535e308bdaa5"
      },
      "outputs": [
        {
          "output_type": "execute_result",
          "data": {
            "text/plain": [
              "[<matplotlib.lines.Line2D at 0x7ff571ee3a10>]"
            ]
          },
          "metadata": {},
          "execution_count": 100
        },
        {
          "output_type": "display_data",
          "data": {
            "image/png": "[encoded data removed]",
            "text/plain": [
              "<Figure size 432x288 with 1 Axes>"
            ]
          },
          "metadata": {
            "needs_background": "light"
          }
        }
      ],
      "source": [
        "t=np.arange(300)\n",
        "y=total(t,1,50,1,1,0.5)\n",
        "plt.plot(y)\n",
        "q=sig(t,1,50,1)\n",
        "plt.plot(q)\n"
      ]
    },
    {
      "cell_type": "markdown",
      "metadata": {
        "id": "_O3aroavsYAZ"
      },
      "source": [
        "## Initial conditions for the fit\n",
        "\n",
        "It is always a good practice to provide some initial values for the parameters to be fitted, especially in a case like this one where there are 5 parameters and the data varies a lot across the spectrum. Initial values are passed to [optimize.curve_fit](https://docs.scipy.org/doc/scipy/reference/generated/scipy.optimize.curve_fit.html) with the argument `p0`:\n",
        "```python\n",
        "pars, pars_cov = opt.curve_fit(..., p0=[500, m_sig, w_sig, 1000, alpha])\n",
        "```\n",
        "\n",
        "Recall that `pars` is the list of fitted parameters (in the order they appear in the definition of the fit function) and `pars_cov` is their covariance matrix that can be used to compute the uncertainty on each fitted parameter."
      ]
    },
    {
      "cell_type": "code",
      "execution_count": 117,
      "metadata": {
        "id": "lKBBQvrEsYAa"
      },
      "outputs": [],
      "source": [
        "pars, pars_cov = opt.curve_fit(total,central_bins,n,p0=[3.13, m_sig, w_sig, 19970,0.0125])"
      ]
    },
    {
      "cell_type": "markdown",
      "metadata": {
        "id": "2f3wLQ0TsYAc"
      },
      "source": [
        "## Fitted parameters\n",
        "- Print the parameters\n",
        "- Print the covariance matrix\n",
        "\n",
        "Are the fitted values close to the generated values?"
      ]
    },
    {
      "cell_type": "code",
      "execution_count": 118,
      "metadata": {
        "id": "ymcTU-TNsYAd",
        "colab": {
          "base_uri": "https://localhost:8080/"
        },
        "outputId": "9ffee1e8-5a0c-45e8-84ff-bdc10b8a899a"
      },
      "outputs": [
        {
          "output_type": "stream",
          "name": "stdout",
          "text": [
            "[4.28790396e+01 1.26063762e+02 5.30290850e-01 1.99700992e+04\n",
            " 1.25268172e-02]\n",
            "\n",
            "\n",
            "[[ 1.65420176e+13 -1.48356228e+10 -6.11560807e+10  1.53861757e+08\n",
            "  -1.37340874e+02]\n",
            " [-1.48356228e+10  1.33052515e+07  5.48475142e+07 -1.37988912e+05\n",
            "   1.23172411e-01]\n",
            " [-6.11560807e+10  5.48475142e+07  2.26094923e+08 -5.68835652e+05\n",
            "   5.07756979e-01]\n",
            " [ 1.53861756e+08 -1.37988912e+05 -5.68835650e+05  7.24817745e+04\n",
            "  -5.01887455e-02]\n",
            " [-1.37340874e+02  1.23172411e-01  5.07756977e-01 -5.01887454e-02\n",
            "   5.99802207e-08]]\n"
          ]
        }
      ],
      "source": [
        "print(pars)\n",
        "print('\\n')\n",
        "print(pars_cov)"
      ]
    },
    {
      "cell_type": "markdown",
      "metadata": {
        "id": "3EtZl-GisYAe"
      },
      "source": [
        "## Plot the histogram and fit\n",
        "\n",
        "- Plot the data histogram\n",
        "- Overlay the fitted function (`total`) with the fitted parameters\n",
        "- Overlay the background function with the fitted parameters\n",
        "- Print the fitted parameters with proper legend on the screen"
      ]
    },
    {
      "cell_type": "code",
      "execution_count": 131,
      "metadata": {
        "id": "YSAcgHersYAe",
        "colab": {
          "base_uri": "https://localhost:8080/",
          "height": 282
        },
        "outputId": "8a8cbe8c-3a62-426f-8b77-e8218744c9a0"
      },
      "outputs": [
        {
          "output_type": "execute_result",
          "data": {
            "text/plain": [
              "<matplotlib.legend.Legend at 0x7ff566ecc290>"
            ]
          },
          "metadata": {},
          "execution_count": 131
        },
        {
          "output_type": "display_data",
          "data": {
            "image/png": "[encoded data removed]",
            "text/plain": [
              "<Figure size 432x288 with 1 Axes>"
            ]
          },
          "metadata": {
            "needs_background": "light"
          }
        }
      ],
      "source": [
        "x_plot=np.arange(500)\n",
        "plt\n",
        "plt.plot(x_plot,total(x_plot,*pars),label='fit',color='red')\n",
        "binned_data, bins, _ = plt.hist(data, bins=n_bins, label='all data', color='green', histtype='step', range=(x_min, x_max))\n",
        "n,bins,patches=plt.hist(e,bins=n_bins,label='background',range=(0,200),facecolor='blue')\n",
        "plt.xlim(0,205)\n",
        "plt.legend()"
      ]
    },
    {
      "cell_type": "markdown",
      "metadata": {
        "id": "Srt9_g-esYAf"
      },
      "source": [
        "# Signal Significance\n",
        "\n",
        "The signal significance is defined as\n",
        "\n",
        "$$\n",
        "S/\\sqrt{B}\\,,\n",
        "$$\n",
        "\n",
        "where\n",
        "\n",
        "$$\n",
        "\\begin{align}\n",
        "S &= \\int_a^b sig(m)\\, dm\\\\\n",
        "B &= \\int_a^b bkg(m)\\, dm\n",
        "\\end{align}\n",
        "$$\n",
        "\n",
        "with $a = m_{\\rm fitted} - 3\\sigma_{\\rm fitted}$ and $b = m_{\\rm fitted} + 3\\sigma_{\\rm fitted}$.\n",
        "\n",
        "Use [scipy.integrate.quad](https://docs.scipy.org/doc/scipy/reference/generated/scipy.integrate.quad.html) to compute the integral.\n",
        "\n",
        "The result of a call to `scipy.integrate.quad` is a list with two elements:\n",
        "1. the value of the integral\n",
        "1. its uncertainty\n",
        "\n",
        "## Compute $S$"
      ]
    },
    {
      "cell_type": "code",
      "execution_count": 147,
      "metadata": {
        "id": "pjIhFyXZsYAf"
      },
      "outputs": [],
      "source": [
        "S=lambda x: sig(x,3.13,m_sig,w_sig)\n",
        "s=integrate.quad(S,126-3*0.53,126+3*0.53)"
      ]
    },
    {
      "cell_type": "markdown",
      "metadata": {
        "id": "Kr__9rRisYAf"
      },
      "source": [
        "## Compute $B$"
      ]
    },
    {
      "cell_type": "code",
      "execution_count": 148,
      "metadata": {
        "id": "znAK4DaTsYAg"
      },
      "outputs": [],
      "source": [
        "B=lambda x: bkg(x,19970,0.0125)\n",
        "b=integrate.quad(B,126-3*0.53,126+3*0.53)"
      ]
    },
    {
      "cell_type": "markdown",
      "metadata": {
        "id": "f043C1a3sYAg"
      },
      "source": [
        "## Compute significance and print the result"
      ]
    },
    {
      "cell_type": "code",
      "execution_count": 152,
      "metadata": {
        "id": "An7a7tTbsYAg",
        "colab": {
          "base_uri": "https://localhost:8080/"
        },
        "outputId": "827937b5-458e-44d1-90ef-6bf03c0004b4"
      },
      "outputs": [
        {
          "output_type": "stream",
          "name": "stdout",
          "text": [
            "(8.692745707114712, 9.650886431250241e-14)\n",
            "(164.33496652294818, 1.8244846358478135e-12)\n",
            "The significance value:  0.6780972527228757\n"
          ]
        }
      ],
      "source": [
        "print(s)\n",
        "print(b)\n",
        "Significance=s[0]/np.sqrt(b[0])\n",
        "print(\"The significance value: \",Significance)"
      ]
    },
    {
      "cell_type": "markdown",
      "metadata": {
        "id": "UMMUkr-LsYAh"
      },
      "source": [
        "# Exercise 1\n",
        "\n",
        "1. Fix the number of background events $N_B = 10000$ and vary the number of signal events $N_S$ in \n",
        " `[10, 50, 100, 500, 1000]`\n",
        "  - Plot the signficance as a function of $N_S$\n",
        "  - You can now change $N_B$ and generate the same plot and show the data for different values of $N_B$\n",
        "  - How does the significance depend on $N_S$ and $N_B$?"
      ]
    },
    {
      "cell_type": "code",
      "execution_count": null,
      "metadata": {
        "id": "daazxVQwsYAi"
      },
      "outputs": [],
      "source": [
        ""
      ]
    },
    {
      "cell_type": "markdown",
      "metadata": {
        "id": "HWX9jAdksYAi"
      },
      "source": [
        "# Exercise 2\n",
        "\n",
        "2. Fix $N_B = 10000$ and $N_S = 200$. Vary the mass width in `[0.01, 0.2, 0.05, 0.10, 0.20, 0.50]`\n",
        "  - Plot the significance as a function of the mass width \n",
        "  - Which mass width provide the best signal significance?"
      ]
    },
    {
      "cell_type": "code",
      "execution_count": null,
      "metadata": {
        "id": "lTXQWFQrsYAi"
      },
      "outputs": [],
      "source": [
        ""
      ]
    },
    {
      "cell_type": "markdown",
      "metadata": {
        "id": "jap-u_Z2sYAi"
      },
      "source": [
        "# Exercise 3\n",
        "\n",
        "\n",
        "3. Fix $N_B = 10000$ and $N_S = 200$ and repeat the experiments 1000 times\n",
        "  - For each experiment generate the number of signal and background events from a Poisson distribution\n",
        "    - mean of signal events: 200\n",
        "    - mean of background events: 10000\n",
        "  - Compute the significance for each experiment\n",
        "  - Plot the distribution of significance for all experiments\n",
        "  - Plot the distribution of $m_{fitted} - m_H$ for all experiments\n",
        "  - Fit to a Gaussian and print the fitted $\\mu$ and $\\sigma$"
      ]
    },
    {
      "cell_type": "code",
      "execution_count": null,
      "metadata": {
        "id": "tYwPl6MTsYAi"
      },
      "outputs": [],
      "source": [
        ""
      ]
    }
  ],
  "metadata": {
    "kernelspec": {
      "display_name": "Python 3 (ipykernel)",
      "language": "python",
      "name": "python3"
    },
    "language_info": {
      "codemirror_mode": {
        "name": "ipython",
        "version": 3
      },
      "file_extension": ".py",
      "mimetype": "text/x-python",
      "name": "python",
      "nbconvert_exporter": "python",
      "pygments_lexer": "ipython3",
      "version": "3.9.8"
    },
    "colab": {
      "name": "lab_4b.ipynb",
      "provenance": [],
      "collapsed_sections": []
    }
  },
  "nbformat": 4,
  "nbformat_minor": 0
}